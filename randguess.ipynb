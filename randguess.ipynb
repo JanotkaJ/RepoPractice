{
 "cells": [
  {
   "cell_type": "code",
   "execution_count": 1,
   "metadata": {},
   "outputs": [
    {
     "name": "stdin",
     "output_type": "stream",
     "text": [
      "Enter your name:  karina\n"
     ]
    },
    {
     "name": "stdout",
     "output_type": "stream",
     "text": [
      "Hello karina ! In this program you will be given three attempts to guess a number between 1 and 10.\n",
      "3  tries left\n"
     ]
    },
    {
     "name": "stdin",
     "output_type": "stream",
     "text": [
      "Enter your guess:  2\n"
     ]
    },
    {
     "name": "stdout",
     "output_type": "stream",
     "text": [
      "2  tries left\n"
     ]
    },
    {
     "name": "stdin",
     "output_type": "stream",
     "text": [
      "Enter your guess:  3\n"
     ]
    },
    {
     "name": "stdout",
     "output_type": "stream",
     "text": [
      "1  tries left\n"
     ]
    },
    {
     "name": "stdin",
     "output_type": "stream",
     "text": [
      "Enter your guess:  5\n"
     ]
    },
    {
     "name": "stdout",
     "output_type": "stream",
     "text": [
      "Sorry you did not get the right answer, it was  4\n"
     ]
    }
   ],
   "source": [
    "import random\n",
    "\n",
    "player_won = False;\n",
    "tries = 3;\n",
    "value = random.randint(1,10)\n",
    "\n",
    "name = input(\"Enter your name: \")\n",
    "print(\"Hello\" , name , \"! In this program you will be given three attempts to guess a number between 1 and 10.\")\n",
    "\n",
    "while(player_won == False and tries > 0):\n",
    "    print(tries , \" tries left\")\n",
    "    guess = (int)(input(\"Enter your guess: \"))\n",
    "    if(guess == value):\n",
    "        player_won = True\n",
    "        break\n",
    "    tries = tries - 1\n",
    "    \n",
    "if(player_won == True):\n",
    "    print(\"Congratulations! \" , value , \" was the correct answer.\")\n",
    "else:\n",
    "    print(\"Sorry you did not get the right answer, it was \" , value)"
   ]
  },
  {
   "cell_type": "code",
   "execution_count": null,
   "metadata": {},
   "outputs": [],
   "source": []
  }
 ],
 "metadata": {
  "kernelspec": {
   "display_name": "Python 3",
   "language": "python",
   "name": "python3"
  },
  "language_info": {
   "codemirror_mode": {
    "name": "ipython",
    "version": 3
   },
   "file_extension": ".py",
   "mimetype": "text/x-python",
   "name": "python",
   "nbconvert_exporter": "python",
   "pygments_lexer": "ipython3",
   "version": "3.8.3"
  }
 },
 "nbformat": 4,
 "nbformat_minor": 4
}
